{
  "cells": [
    {
      "cell_type": "code",
      "execution_count": null,
      "metadata": {
        "colab": {
          "base_uri": "https://localhost:8080/"
        },
        "collapsed": true,
        "id": "RghwrL3HDJ94",
        "outputId": "d36d2c7c-325b-401d-d961-3c8380eb91a9"
      },
      "outputs": [
        {
          "output_type": "stream",
          "name": "stdout",
          "text": [
            "Collecting yt-dlp\n",
            "  Downloading yt_dlp-2024.8.1-py3-none-any.whl.metadata (170 kB)\n",
            "\u001b[2K     \u001b[90m━━━━━━━━━━━━━━━━━━━━━━━━━━━━━━━━━━━━━━━━\u001b[0m \u001b[32m170.1/170.1 kB\u001b[0m \u001b[31m982.0 kB/s\u001b[0m eta \u001b[36m0:00:00\u001b[0m\n",
            "\u001b[?25hCollecting brotli (from yt-dlp)\n",
            "  Downloading Brotli-1.1.0-cp310-cp310-manylinux_2_5_x86_64.manylinux1_x86_64.manylinux_2_12_x86_64.manylinux2010_x86_64.whl.metadata (5.5 kB)\n",
            "Requirement already satisfied: certifi in /usr/local/lib/python3.10/dist-packages (from yt-dlp) (2024.7.4)\n",
            "Collecting mutagen (from yt-dlp)\n",
            "  Downloading mutagen-1.47.0-py3-none-any.whl.metadata (1.7 kB)\n",
            "Collecting pycryptodomex (from yt-dlp)\n",
            "  Downloading pycryptodomex-3.20.0-cp35-abi3-manylinux_2_17_x86_64.manylinux2014_x86_64.whl.metadata (3.4 kB)\n",
            "Collecting requests<3,>=2.32.2 (from yt-dlp)\n",
            "  Downloading requests-2.32.3-py3-none-any.whl.metadata (4.6 kB)\n",
            "Requirement already satisfied: urllib3<3,>=1.26.17 in /usr/local/lib/python3.10/dist-packages (from yt-dlp) (2.0.7)\n",
            "Collecting websockets>=12.0 (from yt-dlp)\n",
            "  Downloading websockets-12.0-cp310-cp310-manylinux_2_5_x86_64.manylinux1_x86_64.manylinux_2_17_x86_64.manylinux2014_x86_64.whl.metadata (6.6 kB)\n",
            "Requirement already satisfied: charset-normalizer<4,>=2 in /usr/local/lib/python3.10/dist-packages (from requests<3,>=2.32.2->yt-dlp) (3.3.2)\n",
            "Requirement already satisfied: idna<4,>=2.5 in /usr/local/lib/python3.10/dist-packages (from requests<3,>=2.32.2->yt-dlp) (3.7)\n",
            "Downloading yt_dlp-2024.8.1-py3-none-any.whl (3.1 MB)\n",
            "\u001b[2K   \u001b[90m━━━━━━━━━━━━━━━━━━━━━━━━━━━━━━━━━━━━━━━━\u001b[0m \u001b[32m3.1/3.1 MB\u001b[0m \u001b[31m15.1 MB/s\u001b[0m eta \u001b[36m0:00:00\u001b[0m\n",
            "\u001b[?25hDownloading requests-2.32.3-py3-none-any.whl (64 kB)\n",
            "\u001b[2K   \u001b[90m━━━━━━━━━━━━━━━━━━━━━━━━━━━━━━━━━━━━━━━━\u001b[0m \u001b[32m64.9/64.9 kB\u001b[0m \u001b[31m2.4 MB/s\u001b[0m eta \u001b[36m0:00:00\u001b[0m\n",
            "\u001b[?25hDownloading websockets-12.0-cp310-cp310-manylinux_2_5_x86_64.manylinux1_x86_64.manylinux_2_17_x86_64.manylinux2014_x86_64.whl (130 kB)\n",
            "\u001b[2K   \u001b[90m━━━━━━━━━━━━━━━━━━━━━━━━━━━━━━━━━━━━━━━━\u001b[0m \u001b[32m130.2/130.2 kB\u001b[0m \u001b[31m2.7 MB/s\u001b[0m eta \u001b[36m0:00:00\u001b[0m\n",
            "\u001b[?25hDownloading Brotli-1.1.0-cp310-cp310-manylinux_2_5_x86_64.manylinux1_x86_64.manylinux_2_12_x86_64.manylinux2010_x86_64.whl (3.0 MB)\n",
            "\u001b[2K   \u001b[90m━━━━━━━━━━━━━━━━━━━━━━━━━━━━━━━━━━━━━━━━\u001b[0m \u001b[32m3.0/3.0 MB\u001b[0m \u001b[31m21.5 MB/s\u001b[0m eta \u001b[36m0:00:00\u001b[0m\n",
            "\u001b[?25hDownloading mutagen-1.47.0-py3-none-any.whl (194 kB)\n",
            "\u001b[2K   \u001b[90m━━━━━━━━━━━━━━━━━━━━━━━━━━━━━━━━━━━━━━━━\u001b[0m \u001b[32m194.4/194.4 kB\u001b[0m \u001b[31m5.2 MB/s\u001b[0m eta \u001b[36m0:00:00\u001b[0m\n",
            "\u001b[?25hDownloading pycryptodomex-3.20.0-cp35-abi3-manylinux_2_17_x86_64.manylinux2014_x86_64.whl (2.1 MB)\n",
            "\u001b[2K   \u001b[90m━━━━━━━━━━━━━━━━━━━━━━━━━━━━━━━━━━━━━━━━\u001b[0m \u001b[32m2.1/2.1 MB\u001b[0m \u001b[31m14.9 MB/s\u001b[0m eta \u001b[36m0:00:00\u001b[0m\n",
            "\u001b[?25hInstalling collected packages: brotli, websockets, requests, pycryptodomex, mutagen, yt-dlp\n",
            "  Attempting uninstall: requests\n",
            "    Found existing installation: requests 2.31.0\n",
            "    Uninstalling requests-2.31.0:\n",
            "      Successfully uninstalled requests-2.31.0\n",
            "\u001b[31mERROR: pip's dependency resolver does not currently take into account all the packages that are installed. This behaviour is the source of the following dependency conflicts.\n",
            "google-colab 1.0.0 requires requests==2.31.0, but you have requests 2.32.3 which is incompatible.\u001b[0m\u001b[31m\n",
            "\u001b[0mSuccessfully installed brotli-1.1.0 mutagen-1.47.0 pycryptodomex-3.20.0 requests-2.32.3 websockets-12.0 yt-dlp-2024.8.1\n"
          ]
        }
      ],
      "source": [
        "!pip install yt-dlp"
      ]
    },
    {
      "cell_type": "markdown",
      "metadata": {
        "id": "boMhUQbGCfZW"
      },
      "source": [
        "Create Keywords"
      ]
    },
    {
      "cell_type": "code",
      "execution_count": null,
      "metadata": {
        "id": "aYVEVjiDCkre"
      },
      "outputs": [],
      "source": [
        "\n",
        "# Create a keyword.txt file\n",
        "keywords = \"\"\"sad anime\n",
        "Dark anime 2024\n",
        "Dark anime\n",
        "Action anime\n",
        "Attitude anime\n",
        "\"\"\"\n",
        "\n",
        "with open('keyword.txt', 'w') as file:\n",
        "    file.write(keywords)"
      ]
    },
    {
      "cell_type": "markdown",
      "metadata": {
        "id": "71_3sAkdCmfb"
      },
      "source": [
        "Scrape Links"
      ]
    },
    {
      "cell_type": "code",
      "execution_count": null,
      "metadata": {
        "colab": {
          "base_uri": "https://localhost:8080/"
        },
        "collapsed": true,
        "id": "fpTcZMEj45c8",
        "outputId": "83d40830-87ba-4bd3-fa32-6f8cb0030e8f"
      },
      "outputs": [
        {
          "output_type": "stream",
          "name": "stdout",
          "text": [
            "Mounted at /content/drive\n",
            "Drive already mounted at /content/drive; to attempt to forcibly remount, call drive.mount(\"/content/drive\", force_remount=True).\n",
            "Enter the number of links you want to scrape: 150\n",
            "Enter the maximum video duration in seconds: 120\n",
            "Loaded keywords: ['sad anime', 'Dark anime 2024', 'Dark anime', 'Action anime', 'Attitude anime']\n",
            "Scraped 150 links for keyword: sad anime\n",
            "Scraped 150 links for keyword: Dark anime 2024\n",
            "Scraped 150 links for keyword: Dark anime\n",
            "Scraped 150 links for keyword: Action anime\n",
            "Scraped 150 links for keyword: Attitude anime\n",
            "Saved 150 links to /content/drive/MyDrive/links.txt\n",
            "Saved 150 total links to links.txt and updated scraped_links.txt\n"
          ]
        }
      ],
      "source": [
        "from google.colab import drive\n",
        "drive.mount('/content/drive')\n",
        "\n",
        "import yt_dlp\n",
        "import random\n",
        "import os\n",
        "\n",
        "def get_number_of_links():\n",
        "    try:\n",
        "        num_links = int(input(\"Enter the number of links you want to scrape: \"))\n",
        "        return num_links\n",
        "    except ValueError:\n",
        "        print(\"Please enter a valid number.\")\n",
        "        return get_number_of_links()\n",
        "\n",
        "def get_max_duration():\n",
        "    try:\n",
        "        max_duration = int(input(\"Enter the maximum video duration in seconds: \"))\n",
        "        return max_duration\n",
        "    except ValueError:\n",
        "        print(\"Please enter a valid number.\")\n",
        "        return get_max_duration()\n",
        "\n",
        "def get_keywords(filename):\n",
        "    with open(filename, 'r') as file:\n",
        "        keywords = file.read().splitlines()\n",
        "    print(f\"Loaded keywords: {keywords}\")\n",
        "    return keywords\n",
        "\n",
        "def load_scraped_links(filename):\n",
        "    if os.path.exists(filename):\n",
        "        with open(filename, 'r') as file:\n",
        "            return set(file.read().splitlines())\n",
        "    return set()\n",
        "\n",
        "def save_scraped_links(filename, links):\n",
        "    with open(filename, 'a') as file:\n",
        "        for link in links:\n",
        "            file.write(f\"{link}\\n\")\n",
        "\n",
        "def scrape_youtube_links(keyword, num_links, max_duration, already_scraped):\n",
        "    ydl_opts = {\n",
        "        'quiet': True,\n",
        "        'extract_flat': True,\n",
        "        'skip_download': True,\n",
        "        'default_search': 'ytsearch',\n",
        "        'noplaylist': True,\n",
        "    }\n",
        "\n",
        "    search_query = f\"ytsearch{num_links * 10}:{keyword} shorts\"\n",
        "\n",
        "    with yt_dlp.YoutubeDL(ydl_opts) as ydl:\n",
        "        result = ydl.extract_info(search_query, download=False)\n",
        "\n",
        "    links = []\n",
        "    for entry in result.get('entries', []):\n",
        "        duration = entry.get('duration')\n",
        "        link = entry.get('url') if 'shorts' in entry['url'] else f\"https://www.youtube.com/watch?v={entry['id']}\"\n",
        "        if duration is not None and duration <= max_duration and link not in already_scraped:\n",
        "            links.append(link)\n",
        "            if len(links) >= num_links:\n",
        "                break\n",
        "\n",
        "    print(f\"Scraped {len(links)} links for keyword: {keyword}\")\n",
        "    return links\n",
        "\n",
        "def save_links(filename, links):\n",
        "    with open(filename, 'w') as file:\n",
        "        for link in links:\n",
        "            file.write(f\"{link}\\n\")\n",
        "    print(f\"Saved {len(links)} links to {filename}\")\n",
        "\n",
        "def main():\n",
        "    # Mount Google Drive\n",
        "    from google.colab import drive\n",
        "    drive.mount('/content/drive')\n",
        "\n",
        "    num_links = get_number_of_links()\n",
        "    max_duration = get_max_duration()\n",
        "    keywords = get_keywords('./keyword.txt')  # Adjust path as needed\n",
        "    already_scraped = load_scraped_links('/content/drive/MyDrive/scraped_links.txt')  # Adjust path as needed\n",
        "    all_links = []\n",
        "\n",
        "    for keyword in keywords:\n",
        "        links = scrape_youtube_links(keyword, num_links, max_duration, already_scraped)\n",
        "        all_links.extend(links)\n",
        "\n",
        "    if len(all_links) > num_links:\n",
        "        all_links = random.sample(all_links, num_links)\n",
        "\n",
        "    save_links('/content/drive/MyDrive/links.txt', all_links)  # Adjust path as needed\n",
        "    save_scraped_links('/content/drive/MyDrive/scraped_links.txt', all_links)  # Adjust path as needed\n",
        "    print(f\"Saved {len(all_links)} total links to links.txt and updated scraped_links.txt\")\n",
        "\n",
        "if __name__ == \"__main__\":\n",
        "    main()"
      ]
    },
    {
      "cell_type": "markdown",
      "metadata": {
        "id": "uM7eKnXP_oRC"
      },
      "source": [
        "Verify Links"
      ]
    },
    {
      "cell_type": "code",
      "execution_count": null,
      "metadata": {
        "colab": {
          "base_uri": "https://localhost:8080/"
        },
        "collapsed": true,
        "id": "z7xUTMTg_vs1",
        "outputId": "9168c8d1-c6c6-4fc6-9b11-e94d70ce1409"
      },
      "outputs": [
        {
          "output_type": "stream",
          "name": "stdout",
          "text": [
            "https://www.youtube.com/shorts/Vzso_8njqNA\n",
            "https://www.youtube.com/shorts/UyoWOncIvUQ\n",
            "https://www.youtube.com/shorts/C57FgJSRStg\n",
            "https://www.youtube.com/shorts/c0HKfOMCuqg\n",
            "https://www.youtube.com/shorts/cmWHqULU-nE\n",
            "https://www.youtube.com/shorts/5dY2qBkQo0Q\n",
            "https://www.youtube.com/shorts/pV8vj17LTlE\n",
            "https://www.youtube.com/shorts/sfqFB087SmM\n",
            "https://www.youtube.com/shorts/pEmqBvKhLm8\n",
            "https://www.youtube.com/shorts/kdohEbmzt0g\n",
            "https://www.youtube.com/shorts/ROT0NtUQqHE\n",
            "https://www.youtube.com/shorts/7kyAahL4Ppk\n",
            "https://www.youtube.com/shorts/32dWF9hIqWs\n",
            "https://www.youtube.com/shorts/GLXjbl_H89s\n",
            "https://www.youtube.com/shorts/Kgt009-yojY\n",
            "https://www.youtube.com/shorts/4zFn5JPMdrM\n",
            "https://www.youtube.com/shorts/O_VsTu9nDvM\n",
            "https://www.youtube.com/shorts/PQiV7iIbzwU\n",
            "https://www.youtube.com/shorts/r15pM45E00Q\n",
            "https://www.youtube.com/shorts/mO3KsvCjObU\n",
            "https://www.youtube.com/shorts/IOKY31uKNqA\n",
            "https://www.youtube.com/shorts/eZuMD7gKEHQ\n",
            "https://www.youtube.com/shorts/5J81ikC9ROY\n",
            "https://www.youtube.com/shorts/4W-vZsXJTFk\n",
            "https://www.youtube.com/shorts/M1bV_3kk6zI\n",
            "https://www.youtube.com/shorts/omGJcO0abgE\n",
            "https://www.youtube.com/shorts/I-Qlvwu9WrY\n",
            "https://www.youtube.com/shorts/52foC7FPEPk\n",
            "https://www.youtube.com/shorts/WtLysCkmDiY\n",
            "https://www.youtube.com/shorts/D8SMSww1mm4\n",
            "https://www.youtube.com/shorts/IJocgxuy-Mk\n",
            "https://www.youtube.com/shorts/U4B_-3qhnPM\n",
            "https://www.youtube.com/shorts/zjtERLShEi8\n",
            "https://www.youtube.com/shorts/7iX6AXjaWuI\n",
            "https://www.youtube.com/shorts/_H3MmV6M93E\n",
            "https://www.youtube.com/shorts/YpedglhpbNY\n",
            "https://www.youtube.com/shorts/tNltFU4PA5Q\n",
            "https://www.youtube.com/shorts/Okqxa4cC3FE\n",
            "https://www.youtube.com/shorts/OKo9JcvGdo8\n",
            "https://www.youtube.com/shorts/2dBniCSSmeY\n",
            "https://www.youtube.com/shorts/NDLX24n5yxM\n",
            "https://www.youtube.com/shorts/SM4_980luIs\n",
            "https://www.youtube.com/shorts/36bQnBri1cs\n",
            "https://www.youtube.com/shorts/tg8eM7XaOGs\n",
            "https://www.youtube.com/shorts/wtYrqA5BKFU\n",
            "https://www.youtube.com/shorts/o7Y9uEkQd68\n",
            "https://www.youtube.com/shorts/-KSCmySsI0s\n",
            "https://www.youtube.com/shorts/X79v1a9QtR4\n",
            "https://www.youtube.com/shorts/jEB3fLnz_lo\n",
            "https://www.youtube.com/shorts/1GkpKyXJfwY\n",
            "https://www.youtube.com/shorts/k9NjcGvqpk4\n",
            "https://www.youtube.com/shorts/_HQKIe6H1rU\n",
            "https://www.youtube.com/shorts/C_8uEqrEiv0\n",
            "https://www.youtube.com/shorts/xtA6GsH1Kyc\n",
            "https://www.youtube.com/shorts/o7Y9uEkQd68\n",
            "https://www.youtube.com/shorts/xtA6GsH1Kyc\n",
            "https://www.youtube.com/shorts/E5Q3A49UaLE\n",
            "https://www.youtube.com/shorts/rquzWcSJhng\n",
            "https://www.youtube.com/shorts/5J81ikC9ROY\n",
            "https://www.youtube.com/watch?v=a-x6SuNiZGg\n",
            "https://www.youtube.com/shorts/p8qH1hEVJ54\n",
            "https://www.youtube.com/shorts/ZcVEzFTdi4E\n",
            "https://www.youtube.com/shorts/534u2bkyd0I\n",
            "https://www.youtube.com/shorts/wIijXziLcgI\n",
            "https://www.youtube.com/shorts/yx0YfNB8gk4\n",
            "https://www.youtube.com/shorts/-XRRUur6Bag\n",
            "https://www.youtube.com/shorts/xrtyk0kBmfI\n",
            "https://www.youtube.com/shorts/q15aC1FLESc\n",
            "https://www.youtube.com/shorts/7GSoNpZAsUE\n",
            "https://www.youtube.com/shorts/mmpbzp_QUYA\n",
            "https://www.youtube.com/shorts/JdJEw0ng46s\n",
            "https://www.youtube.com/shorts/AI62_snNH1I\n",
            "https://www.youtube.com/shorts/trMqlVYMoW4\n",
            "https://www.youtube.com/shorts/MIfvTXim5ak\n",
            "https://www.youtube.com/shorts/qNurvtTF83o\n",
            "https://www.youtube.com/shorts/TIA421190kk\n",
            "https://www.youtube.com/shorts/h_2wsNDz_G8\n",
            "https://www.youtube.com/shorts/STKHiEzoQmk\n",
            "https://www.youtube.com/shorts/EuRQeCib19w\n",
            "https://www.youtube.com/shorts/eZuMD7gKEHQ\n",
            "https://www.youtube.com/shorts/t0hlt5OsDec\n",
            "https://www.youtube.com/shorts/QijyoHvq1ns\n",
            "https://www.youtube.com/shorts/-NVmirWRZc8\n",
            "https://www.youtube.com/shorts/uWtzQk-smrY\n",
            "https://www.youtube.com/shorts/hgPy4h9Q80E\n",
            "https://www.youtube.com/shorts/rro4Rr_zybc\n",
            "https://www.youtube.com/shorts/dyWvF-p3Bu4\n",
            "https://www.youtube.com/shorts/7W-rxFSFhqU\n",
            "https://www.youtube.com/shorts/Ar-Whzud50o\n",
            "https://www.youtube.com/shorts/B1FnFviIWN8\n",
            "https://www.youtube.com/shorts/8Cf36vffmBA\n",
            "https://www.youtube.com/shorts/uewluDxyIJ0\n",
            "https://www.youtube.com/shorts/inIs1S-PyFM\n",
            "https://www.youtube.com/shorts/iMnlCfZhCCI\n",
            "https://www.youtube.com/shorts/SkfDEfaDiws\n",
            "https://www.youtube.com/shorts/0Qxw-qturwU\n",
            "https://www.youtube.com/shorts/DXR-zPpABoE\n",
            "https://www.youtube.com/shorts/rkYVZlE9YVU\n",
            "https://www.youtube.com/shorts/hiSkutskHf4\n",
            "https://www.youtube.com/shorts/g-1sa2QUs14\n",
            "https://www.youtube.com/shorts/n81O8NJPVeU\n",
            "https://www.youtube.com/shorts/t9CB07pfKEs\n",
            "https://www.youtube.com/shorts/SrFG39RXf-Q\n",
            "https://www.youtube.com/shorts/g6oCoN9SBuQ\n",
            "https://www.youtube.com/shorts/qs4weFeGsWw\n",
            "https://www.youtube.com/shorts/gKjJ1mN2m3c\n",
            "https://www.youtube.com/shorts/WoNWLRwk8tM\n",
            "https://www.youtube.com/shorts/viFhLbjtcMg\n",
            "https://www.youtube.com/shorts/jSl7S4rXszk\n",
            "https://www.youtube.com/shorts/ESTJUmCrWKs\n",
            "https://www.youtube.com/shorts/BisIDGUQy78\n",
            "https://www.youtube.com/shorts/YIK7fqcwlkw\n",
            "https://www.youtube.com/shorts/z5_xcOHGAfQ\n",
            "https://www.youtube.com/shorts/zJu9QFcOA5c\n",
            "https://www.youtube.com/shorts/SS2prKSuHF4\n",
            "https://www.youtube.com/shorts/XfWnc97PQW4\n",
            "https://www.youtube.com/shorts/JHYknVg086Q\n",
            "https://www.youtube.com/shorts/NIRxwCZSF1I\n",
            "https://www.youtube.com/shorts/ta2GO1QFayo\n",
            "https://www.youtube.com/shorts/ObFmfoeQtn8\n",
            "https://www.youtube.com/shorts/WCzRnVYatts\n",
            "https://www.youtube.com/shorts/pIDniv0e-zc\n",
            "https://www.youtube.com/shorts/bR65h-U16Sk\n",
            "https://www.youtube.com/shorts/Hpf_nTUjb1k\n",
            "https://www.youtube.com/shorts/xfni66y1dZg\n",
            "https://www.youtube.com/shorts/gtQDqet1u2I\n",
            "https://www.youtube.com/shorts/SyXtiPnsZIg\n",
            "https://www.youtube.com/shorts/aciqgv26Hlg\n",
            "https://www.youtube.com/shorts/yL2rIRVKCtU\n",
            "https://www.youtube.com/shorts/913rNjjizQU\n",
            "https://www.youtube.com/shorts/wY0Jp3w28SQ\n",
            "https://www.youtube.com/shorts/UnnNgNDiziM\n",
            "https://www.youtube.com/shorts/SwFnFmMNnA8\n",
            "https://www.youtube.com/shorts/I75fzpGDro4\n",
            "https://www.youtube.com/shorts/nBjyn_CLpCY\n",
            "https://www.youtube.com/shorts/ESTJUmCrWKs\n",
            "https://www.youtube.com/shorts/iglacKJvmJA\n",
            "https://www.youtube.com/shorts/TEtZKmN6Yeg\n",
            "https://www.youtube.com/shorts/CdyaALQHMj8\n",
            "https://www.youtube.com/shorts/w0_n9-B5mYQ\n",
            "https://www.youtube.com/shorts/L6_hzCDfu-M\n",
            "https://www.youtube.com/shorts/VapY3sKJ8oQ\n",
            "https://www.youtube.com/shorts/9H2-wbOy0hk\n",
            "https://www.youtube.com/shorts/EFt4CKdSA5U\n",
            "https://www.youtube.com/shorts/8sbEw7XEnyQ\n",
            "https://www.youtube.com/shorts/ZjtHHUOMbMM\n",
            "https://www.youtube.com/shorts/w1Je0SmMaqw\n",
            "https://www.youtube.com/shorts/N30dfSWT3JI\n",
            "https://www.youtube.com/shorts/wFXRqUdxFy8\n",
            "https://www.youtube.com/shorts/8ojxs8MXEdw\n",
            "\n"
          ]
        }
      ],
      "source": [
        "# Read and print the content of links.txt to verify\n",
        "file_path = '/content/drive/MyDrive/links.txt'  # Adjust this path as needed\n",
        "\n",
        "# Check if the file exists before trying to read it\n",
        "if os.path.exists(file_path):\n",
        "    with open(file_path, 'r') as file:\n",
        "        links = file.read()\n",
        "    print(links)\n",
        "else:\n",
        "    print(f\"{file_path} does not exist.\")"
      ]
    },
    {
      "cell_type": "markdown",
      "metadata": {
        "id": "UVeNr1rwAEEy"
      },
      "source": [
        "Download Links"
      ]
    },
    {
      "cell_type": "code",
      "execution_count": null,
      "metadata": {
        "colab": {
          "base_uri": "https://localhost:8080/",
          "height": 17
        },
        "id": "wHeKe_7AANAV",
        "outputId": "e95045a2-fd1f-4bcd-980c-bb2dd3eeb90b"
      },
      "outputs": [
        {
          "output_type": "display_data",
          "data": {
            "text/plain": [
              "<IPython.core.display.Javascript object>"
            ],
            "application/javascript": [
              "\n",
              "    async function download(id, filename, size) {\n",
              "      if (!google.colab.kernel.accessAllowed) {\n",
              "        return;\n",
              "      }\n",
              "      const div = document.createElement('div');\n",
              "      const label = document.createElement('label');\n",
              "      label.textContent = `Downloading \"${filename}\": `;\n",
              "      div.appendChild(label);\n",
              "      const progress = document.createElement('progress');\n",
              "      progress.max = size;\n",
              "      div.appendChild(progress);\n",
              "      document.body.appendChild(div);\n",
              "\n",
              "      const buffers = [];\n",
              "      let downloaded = 0;\n",
              "\n",
              "      const channel = await google.colab.kernel.comms.open(id);\n",
              "      // Send a message to notify the kernel that we're ready.\n",
              "      channel.send({})\n",
              "\n",
              "      for await (const message of channel.messages) {\n",
              "        // Send a message to notify the kernel that we're ready.\n",
              "        channel.send({})\n",
              "        if (message.buffers) {\n",
              "          for (const buffer of message.buffers) {\n",
              "            buffers.push(buffer);\n",
              "            downloaded += buffer.byteLength;\n",
              "            progress.value = downloaded;\n",
              "          }\n",
              "        }\n",
              "      }\n",
              "      const blob = new Blob(buffers, {type: 'application/binary'});\n",
              "      const a = document.createElement('a');\n",
              "      a.href = window.URL.createObjectURL(blob);\n",
              "      a.download = filename;\n",
              "      div.appendChild(a);\n",
              "      a.click();\n",
              "      div.remove();\n",
              "    }\n",
              "  "
            ]
          },
          "metadata": {}
        },
        {
          "output_type": "display_data",
          "data": {
            "text/plain": [
              "<IPython.core.display.Javascript object>"
            ],
            "application/javascript": [
              "download(\"download_20cdddef-6fb6-4692-b963-e760a7a5375b\", \"links.txt\", 6451)"
            ]
          },
          "metadata": {}
        }
      ],
      "source": [
        "from google.colab import files\n",
        "\n",
        "# Specify the full path to the file in Google Drive\n",
        "file_path = '/content/drive/MyDrive/links.txt'\n",
        "\n",
        "# Download the file\n",
        "files.download(file_path)"
      ]
    }
  ],
  "metadata": {
    "colab": {
      "provenance": []
    },
    "kernelspec": {
      "display_name": "Python 3",
      "name": "python3"
    },
    "language_info": {
      "name": "python"
    }
  },
  "nbformat": 4,
  "nbformat_minor": 0
}